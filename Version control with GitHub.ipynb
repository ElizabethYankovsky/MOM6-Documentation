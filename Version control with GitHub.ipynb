{
 "cells": [
  {
   "cell_type": "markdown",
   "metadata": {},
   "source": [
    "# Version control with GitHub\n",
    "## Useful commands\n",
    "`git remote -v` shows where you can fetch and push from, should have GFDL (which is where you’re getting and updating the code from) as well as origin (your personal backup, can have multiple branches). Here is what my output looks like:\n",
    "git branch (shows available branches as well as the branch you’re currently on)\n",
    "```\n",
    "git remote -v\n",
    "GFDL\thttps://github.com/NOAA-GFDL/MOM6.git (fetch)\n",
    "GFDL\thttps://github.com/NOAA-GFDL/MOM6.git (push)\n",
    "origin\thttps://github.com/ElizabethYankovsky/MOM6.git (fetch)\n",
    "origin\thttps://github.com/ElizabethYankovsky/MOM6.git (push)\n",
    "```\n",
    "To edit these, use (for example) `git remote rm origin` to remove a destination or `git remote add origin https://github.com/ElizabethYankovsky/MOM6.git` to add a destination.\n",
    "`git branch` shows which branch you are presently on with an asterisk, as well as available branches. You should be on the working branch, keep dev/gfdl or dev/master unmodified, preserving the unaltered state of the model as you originally cloned it. \n",
    "```\n",
    "git branch\n",
    "  dev/gfdl\n",
    "  dev/master\n",
    "* myworkingbranch\n",
    "```\n",
    "`git checkout dev/gfdl` switches to the dev/gfdl branch.\n",
    "`git log` shows the command history.\n",
    "## Updating model code using GitHub:\n",
    "First got to MOM6 directory, check which branch you’re on: `git branch`. You should be on your working branch. Switch to dev/gfld:\n",
    "git checkout dev/gfdl\n",
    "Now you want to pull the GFDL version which has all the updates.\n",
    "git pull GFDL dev/gfdl\n",
    "git pull does a git fetch followed by a git merge, if you don’t want to modify your dev/gfdl yet then only do the fetch (it’ll show how behind you are)\n",
    "Then you want to merge the new head to your working branch:\n",
    "checkout myworkingbranch\n",
    "git merge dev/gfdl\n",
    "search for >> and make changes so that everything is consistent.\n",
    "\n",
    "# Submitting jobs\n",
    "## Processor advice\n",
    "Choosing the number of processors for a given run involves taking into account parallelization efficiency, wall time, and queue time of the proposed job. On Gaea, the maximum wall time for a given job is 16 hours. Queue time is related to the demand of resources at a given time as well as the priority of the submitted job. A rule of thumb for having a high parallelization efficiency for MOM6 or MITgcm simulations is based on the horizontal grid size. One should aim to have ~20 points per processor in x and in y (vertical dimension is not taken into account). For instance, if we have a 2D simulation with 640 points in x, 640/20=32 processors, or 1 node on Gaea C3. Also keep in mind that when we request nodes on Gaea, each node has a set number of processors per node (36 ppn on C4, 32 ppn on C3). If we requested 1 node on Gaea C3, we are granted 32 processors (so may as well use all 32 instead of 16, even if 16 is a bit more efficient). \n",
    "\n",
    "Let's say we have a 3D simulation with 640 points in x and 900 points in y. Based on the 20 points per processor rule, we would have 640/20=32 processors in x, and 900/20=45 processors in y, giving a peak efficiency at 32*45=1440 processors. However, if using twice as many processors will allow us to complete the simulation within 16 hours (one wall time block rather than having to restart), this is favorable in my experiences. When having expensive simulations, queue times are quite long and it's preferable to avoid restarts if possible, even if it means sacrificing a bit of efficiency. \n",
    "\n",
    "Here are a few examples of simulations that I have performed in MITgcm and MOM6 (sizes listed as x by y by z). \n",
    "Domain size 640x4x120: 32 processors\n",
    "Domain size 1280x1x240: 64 processors\n",
    "Domain size 640x900x120: 2560 processors \n",
    "\n"
   ]
  }
 ],
 "metadata": {
  "kernelspec": {
   "display_name": "Python 3",
   "language": "python",
   "name": "python3"
  },
  "language_info": {
   "codemirror_mode": {
    "name": "ipython",
    "version": 3
   },
   "file_extension": ".py",
   "mimetype": "text/x-python",
   "name": "python",
   "nbconvert_exporter": "python",
   "pygments_lexer": "ipython3",
   "version": "3.5.1"
  }
 },
 "nbformat": 4,
 "nbformat_minor": 0
}
